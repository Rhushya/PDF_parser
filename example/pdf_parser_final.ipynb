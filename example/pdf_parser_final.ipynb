{
  "cells": [
    {
      "cell_type": "code",
      "execution_count": null,
      "metadata": {
        "colab": {
          "base_uri": "https://localhost:8080/"
        },
        "id": "946rEY1O2dbn",
        "outputId": "165db0a8-00a7-4b24-9783-83898bc9d08c"
      },
      "outputs": [],
      "source": [
        "!pip install PyMuPDF pdfplumber pytesseract pdf2image pillow python-dateutil pandas\n",
        "!sudo apt-get install poppler-utils tesseract-ocr tesseract-ocr-eng libtesseract-dev\n"
      ]
    },
    {
      "cell_type": "code",
      "execution_count": null,
      "metadata": {
        "colab": {
          "base_uri": "https://localhost:8080/"
        },
        "id": "trbxwBGF2bgZ",
        "outputId": "f8566c79-84f3-4702-d5ef-a88e828e6785"
      },
      "outputs": [],
      "source": [
        "!pip install PyMuPDF pdf2image pdfplumber pytesseract Pillow python-dateutil\n",
        "!sudo apt-get install poppler-utils tesseract-ocr tesseract-ocr-eng\n",
        "\n",
        "import os\n",
        "import fitz\n",
        "from pdf2image import convert_from_path\n",
        "import pdfplumber\n",
        "import pytesseract\n",
        "from PIL import Image\n",
        "import io\n",
        "import pandas as pd\n",
        "from IPython.display import display, HTML, Markdown\n",
        "\n",
        "def process_pdf(pdf_path):\n",
        "    \"\"\"Main processing function with direct Colab output\"\"\"\n",
        "\n",
        "    # Initialize results dictionary\n",
        "    results = {\n",
        "        'metadata': {},\n",
        "        'text': [],\n",
        "        'tables': [],\n",
        "        'images': [],\n",
        "        'ocr_text': []\n",
        "    }\n",
        "\n",
        "    # Extract metadata\n",
        "    with fitz.open(pdf_path) as doc:\n",
        "        results['metadata'] = doc.metadata\n",
        "\n",
        "    # Extract text and tables using pdfplumber\n",
        "    with pdfplumber.open(pdf_path) as pdf:\n",
        "        for page_num, page in enumerate(pdf.pages):\n",
        "            # Text extraction\n",
        "            text = page.extract_text()\n",
        "            if text:\n",
        "                results['text'].append(f\"Page {page_num+1} Text:\\n{text}\\n{'='*50}\")\n",
        "\n",
        "            # Table extraction\n",
        "            tables = page.extract_tables()\n",
        "            for table_num, table in enumerate(tables):\n",
        "                df = pd.DataFrame(table[1:], columns=table[0])\n",
        "                results['tables'].append({\n",
        "                    'page': page_num+1,\n",
        "                    'table_num': table_num+1,\n",
        "                    'dataframe': df\n",
        "                })\n",
        "\n",
        "    # Image extraction and OCR\n",
        "    images = convert_from_path(pdf_path)\n",
        "    for img_num, img in enumerate(images):\n",
        "        # Save image to bytes\n",
        "        img_byte_arr = io.BytesIO()\n",
        "        img.save(img_byte_arr, format='JPEG')\n",
        "\n",
        "        # OCR processing\n",
        "        ocr_text = pytesseract.image_to_string(img)\n",
        "        if ocr_text.strip():\n",
        "            results['ocr_text'].append(f\"Image {img_num+1} OCR Text:\\n{ocr_text}\\n{'='*50}\")\n",
        "\n",
        "        # Store image for display\n",
        "        results['images'].append(img)\n",
        "\n",
        "    return results\n",
        "\n",
        "def display_results(results):\n",
        "    \"\"\"Display all results in Colab interface\"\"\"\n",
        "\n",
        "    # Display metadata\n",
        "    display(HTML(\"<h2>PDF Metadata</h2>\"))\n",
        "    display(pd.DataFrame.from_dict(results['metadata'], orient='index'))\n",
        "\n",
        "    # Display extracted text\n",
        "    display(HTML(\"<h2>Extracted Text</h2>\"))\n",
        "    display(Markdown(\"\\n\".join(results['text'])))\n",
        "\n",
        "    # Display OCR text\n",
        "    if results['ocr_text']:\n",
        "        display(HTML(\"<h2>OCR Text from Images</h2>\"))\n",
        "        display(Markdown(\"\\n\".join(results['ocr_text'])))\n",
        "\n",
        "    # Display tables\n",
        "    if results['tables']:\n",
        "        display(HTML(\"<h2>Extracted Tables</h2>\"))\n",
        "        for table in results['tables']:\n",
        "            display(HTML(f\"<h4>Page {table['page']} - Table {table['table_num']}</h4>\"))\n",
        "            display(table['dataframe'])\n",
        "\n",
        "    # Display images\n",
        "    display(HTML(\"<h2>Extracted Images</h2>\"))\n",
        "    for img in results['images']:\n",
        "        display(img)\n",
        "\n"
      ]
    },
    {
      "cell_type": "code",
      "execution_count": null,
      "metadata": {
        "colab": {
          "base_uri": "https://localhost:8080/",
          "height": 1000
        },
        "id": "ZAozFrO02f-p",
        "outputId": "426a27e7-a25c-46b4-d367-8e427bbd7c0f"
      },
      "outputs": [],
      "source": [
        "# Upload PDF file in Colab\n",
        "from google.colab import files\n",
        "uploaded = files.upload()\n",
        "\n",
        "# Process and display results\n",
        "pdf_file = list(uploaded.keys())[0]\n",
        "results = process_pdf(pdf_file)\n",
        "display_results(results)"
      ]
    }
  ],
  "metadata": {
    "accelerator": "GPU",
    "colab": {
      "gpuType": "T4",
      "provenance": []
    },
    "kernelspec": {
      "display_name": "Python 3",
      "name": "python3"
    },
    "language_info": {
      "name": "python"
    }
  },
  "nbformat": 4,
  "nbformat_minor": 0
}
